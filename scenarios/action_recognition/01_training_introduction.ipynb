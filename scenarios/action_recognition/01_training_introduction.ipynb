{
 "cells": [
  {
   "cell_type": "markdown",
   "metadata": {},
   "source": [
    "# R(2+1)D Model Fine-tuning on HMDB51  \n",
    "\n",
    "In this notebook, we show how to finetune the pretrained R(2+1)D model. We use [HMDB51](http://serre-lab.clps.brown.edu/resource/hmdb-a-large-human-motion-database/) human action dataset for this example."
   ]
  },
  {
   "cell_type": "code",
   "execution_count": null,
   "metadata": {},
   "outputs": [],
   "source": [
    "%load_ext autoreload\n",
    "%autoreload 2"
   ]
  },
  {
   "cell_type": "code",
   "execution_count": null,
   "metadata": {},
   "outputs": [],
   "source": [
    "import sys\n",
    "sys.path.append(\"../../\")\n",
    "import time\n",
    "import os\n",
    "import numpy as np\n",
    "from sklearn.metrics import accuracy_score\n",
    "import torch\n",
    "import torch.cuda as cuda\n",
    "import torch.nn as nn\n",
    "import torchvision\n",
    "\n",
    "from utils_cv.action_recognition.dataset import show_batch, VideoDataset\n",
    "from utils_cv.action_recognition.model import R2Plus1D \n",
    "from utils_cv.common.gpu import system_info\n",
    "\n",
    "system_info()"
   ]
  },
  {
   "cell_type": "markdown",
   "metadata": {},
   "source": [
    "### Prerequisites\n",
    "* Download and extract HMDB51 videos under `./data/hmdb51/videos` directory. "
   ]
  },
  {
   "cell_type": "code",
   "execution_count": null,
   "metadata": {},
   "outputs": [],
   "source": [
    "from utils_cv.common.data import data_path"
   ]
  },
  {
   "cell_type": "code",
   "execution_count": null,
   "metadata": {},
   "outputs": [],
   "source": [
    "DATA_ROOT = os.path.join(str(data_path()), \"misc/hmdb51\")\n",
    "VIDEO_DIR = os.path.join(DATA_ROOT, \"videos\")\n",
    "# This split is known as \"split1\"\n",
    "TRAIN_SPLIT = os.path.join(DATA_ROOT, \"hmdb51_vid_train_split_1.txt\")\n",
    "TEST_SPLIT = os.path.join(DATA_ROOT, \"hmdb51_vid_val_split_1.txt\")"
   ]
  },
  {
   "cell_type": "markdown",
   "metadata": {},
   "source": [
    "## Model and Training Configurations"
   ]
  },
  {
   "cell_type": "markdown",
   "metadata": {},
   "source": [
    "Using the paramters below, one can reproduce published results on the HMDB-51 dataset. Video-clip accuracy of close to 80%  can be obtained using as input to the DNN 32 consecutive frames (`MODEL_INPUT_SIZE`) and running 48 training epochs. Even using only 8 epochs the accuracy already reaches 75%. Inference and training speed can be reduced by a factor of 3-4 by setting `MODEL_INPUT_SIZE=8` and using higher batch size, however at a significant loss in accuracy."
   ]
  },
  {
   "cell_type": "code",
   "execution_count": null,
   "metadata": {},
   "outputs": [],
   "source": [
    "# Number of consecutive frames used as input to the DNN. Recommended: 32 for high accuracy, 8 for inference speed.\n",
    "MODEL_INPUT_SIZE = 8\n",
    "\n",
    "# Batch size. Reduce if running out of memory.\n",
    "BATCH_SIZE = 8        \n",
    "\n",
    "# Number of training epochs\n",
    "EPOCHS = 8\n",
    "\n",
    "# Model configuration\n",
    "r2plus1d_hmdb51_cfgs = dict(\n",
    "    # HMDB51 dataset spec\n",
    "    num_classes=51,\n",
    "    video_dir=VIDEO_DIR,\n",
    "    train_split=TRAIN_SPLIT,\n",
    "    valid_split=TEST_SPLIT,\n",
    "    # Pre-trained model spec (\"Closer look\" and \"Large-scale\" papers)\n",
    "    base_model='ig65m',\n",
    "    sample_length=MODEL_INPUT_SIZE,     \n",
    "    sample_step=1,        # Frame sampling step\n",
    "    im_scale=128,         # After scaling, the frames will be cropped to (112 x 112)\n",
    "    mean=(0.43216, 0.394666, 0.37645),\n",
    "    std=(0.22803, 0.22145, 0.216989),\n",
    "    random_shift=True,\n",
    "    temporal_jitter_step=2,    # Temporal jitter step in frames (only for training set)\n",
    "    flip_ratio=0.5,\n",
    "    random_crop=True,\n",
    "    video_ext='avi',\n",
    ")\n",
    "\n",
    "# Training configuration\n",
    "train_cfgs = dict(\n",
    "    epochs=EPOCHS,                       # Number of training epochs\n",
    "    lr=0.0001,                           # Learning rate\n",
    "    lr_step_size = np.ceil(2/3*EPOCHS),  # Reduce learning rate by factor of 10 after this many epochs.\n",
    "    batch_size=BATCH_SIZE,               # Model batch size. Reduce if model cannot fit into memory.\n",
    "    \n",
    "    # No need to change these parameters\n",
    "    grad_steps=2,          # Accumulate the gradients over multiple forward passes\n",
    "    mixed_prec=False,      # Use mixed precision to speed up training\n",
    ")"
   ]
  },
  {
   "cell_type": "markdown",
   "metadata": {},
   "source": [
    "## Load Model and Data\n",
    "\n",
    "Load R(2+1)D 34-layer model pre-trained on IG65M. There are two versions of the model: 8-frame model and 32-frame model based on the input clip length."
   ]
  },
  {
   "cell_type": "code",
   "execution_count": null,
   "metadata": {},
   "outputs": [],
   "source": [
    "learn = R2Plus1D(r2plus1d_hmdb51_cfgs)"
   ]
  },
  {
   "cell_type": "markdown",
   "metadata": {},
   "source": [
    "Model structure"
   ]
  },
  {
   "cell_type": "code",
   "execution_count": null,
   "metadata": {},
   "outputs": [],
   "source": [
    "learn.model"
   ]
  },
  {
   "cell_type": "markdown",
   "metadata": {},
   "source": [
    "Three examples of training (transformed) clips. "
   ]
  },
  {
   "cell_type": "code",
   "execution_count": null,
   "metadata": {},
   "outputs": [],
   "source": [
    "learn.show_batch(num_samples=3)"
   ]
  },
  {
   "cell_type": "markdown",
   "metadata": {},
   "source": [
    "## Fine-tuning"
   ]
  },
  {
   "cell_type": "code",
   "execution_count": null,
   "metadata": {},
   "outputs": [],
   "source": [
    "learn.fit(train_cfgs)"
   ]
  },
  {
   "cell_type": "markdown",
   "metadata": {},
   "source": [
    "Each accuracy is averaged batch-wise accuracy."
   ]
  },
  {
   "cell_type": "markdown",
   "metadata": {},
   "source": [
    "## Model Test\n",
    "\n",
    "Reported accuracy from \"Closer look\" paper: 74.5% (clip accuracy of 66.1% on split1 based on VMZ repo)\n",
    "\n",
    "1. sample 10 clips uniformly sampled from each test video: [10 x 3 x (8 or 32) x 112 x 112]\n",
    "2. calculate clip-level accuracy: Use 10 batch and infer\n",
    "3. calculate video-level accuracy by averaging them\n",
    "4. average over the clips"
   ]
  },
  {
   "cell_type": "code",
   "execution_count": null,
   "metadata": {},
   "outputs": [],
   "source": [
    "# ### Load Saved Weights if needed\n",
    "#learn.load(body_train_cfgs['model_name'] + \"_032\", body_train_cfgs['model_dir'])"
   ]
  },
  {
   "cell_type": "code",
   "execution_count": null,
   "metadata": {},
   "outputs": [],
   "source": [
    "if cuda.is_available():\n",
    "    device = torch.device(\"cuda\")\n",
    "    num_gpus = cuda.device_count()\n",
    "    # Look for the optimal set of algorithms to use in cudnn. Use this only with fixed-size inputs.\n",
    "    torch.backends.cudnn.benchmark = True\n",
    "else:\n",
    "    device = torch.device(\"cpu\")\n",
    "    num_gpus = 0"
   ]
  },
  {
   "cell_type": "code",
   "execution_count": null,
   "metadata": {},
   "outputs": [],
   "source": [
    "# Uniformly sample 10 clips per videos (\"Closer look\" papers)\n",
    "num_segments = 10\n",
    "test_ds = VideoDataset(\n",
    "    split_file=r2plus1d_hmdb51_cfgs['valid_split'],\n",
    "    video_dir=r2plus1d_hmdb51_cfgs['video_dir'],\n",
    "    num_segments=num_segments,\n",
    "    sample_length=r2plus1d_hmdb51_cfgs['sample_length'],\n",
    "    sample_step=1,\n",
    "    input_size=112,\n",
    "    im_scale=r2plus1d_hmdb51_cfgs['im_scale'],\n",
    "    resize_keep_ratio=True,\n",
    "    mean=r2plus1d_hmdb51_cfgs['mean'],\n",
    "    std=r2plus1d_hmdb51_cfgs['std'],\n",
    "    random_shift=False,\n",
    "    temporal_jitter=False,\n",
    "    flip_ratio=0.0,\n",
    "    random_crop=False,\n",
    "    random_crop_scales=None,\n",
    "    video_ext=r2plus1d_hmdb51_cfgs['video_ext'],\n",
    ")\n",
    "\n",
    "print(\"{} samples of {}\".format(len(test_ds), test_ds[0][0][0].shape))\n",
    "\n",
    "show_batch(\n",
    "    test_ds[0][0],\n",
    "    r2plus1d_hmdb51_cfgs['sample_length'],\n",
    "    r2plus1d_hmdb51_cfgs['mean'],\n",
    "    r2plus1d_hmdb51_cfgs['std']\n",
    ")"
   ]
  },
  {
   "cell_type": "code",
   "execution_count": null,
   "metadata": {},
   "outputs": [],
   "source": [
    "# Initialize the model\n",
    "model = learn.model\n",
    "model.to(device)\n",
    "if num_gpus > 1:\n",
    "    model = nn.DataParallel(model)\n",
    "model.eval()\n",
    "\n",
    "# Loop over all examples in the test set and compute accuracies\n",
    "infer_times = []\n",
    "video_preds = []\n",
    "video_trues = []\n",
    "clip_preds = []\n",
    "clip_trues = []\n",
    "report_every = 100\n",
    "\n",
    "with torch.no_grad():\n",
    "    for i in range(1, len(test_ds)): #[::10]:  # Skip some examples to speed up accuracy computation\n",
    "        if i % report_every == 0:\n",
    "            print(\"Processsing {} of {} samples..\".format(i, len(test_ds)))\n",
    "        \n",
    "        # Get model inputs\n",
    "        inputs, label = test_ds[i]\n",
    "        inputs = inputs.to(device, non_blocking=True)\n",
    "        \n",
    "        # Run inference\n",
    "        start_time = time.time()\n",
    "        outputs = model(inputs)\n",
    "        outputs = outputs.cpu().numpy()\n",
    "        infer_time = time.time() - start_time\n",
    "        infer_times.append(infer_time)\n",
    "        \n",
    "        # Store results\n",
    "        video_preds.append(outputs.sum(axis=0).argmax())\n",
    "        video_trues.append(label)\n",
    "        clip_preds.extend(outputs.argmax(axis=1))\n",
    "        clip_trues.extend([label] * num_segments)\n",
    "        \n",
    "print(\"Avg. inference time per video (10 clips) =\", np.array(infer_times).mean() * 1000, \"ms\")\n",
    "print(\"Video prediction accuracy =\", accuracy_score(video_trues, video_preds))\n",
    "print(\"Clip prediction accuracy =\", accuracy_score(clip_trues, clip_preds))"
   ]
  },
  {
   "cell_type": "code",
   "execution_count": null,
   "metadata": {},
   "outputs": [],
   "source": []
  }
 ],
 "metadata": {
  "kernelspec": {
   "display_name": "Python (cv)",
   "language": "python",
   "name": "cv"
  },
  "language_info": {
   "codemirror_mode": {
    "name": "ipython",
    "version": 3
   },
   "file_extension": ".py",
   "mimetype": "text/x-python",
   "name": "python",
   "nbconvert_exporter": "python",
   "pygments_lexer": "ipython3",
   "version": "3.6.8"
  }
 },
 "nbformat": 4,
 "nbformat_minor": 2
}
